{
 "cells": [
  {
   "cell_type": "markdown",
   "metadata": {},
   "source": [
    "Importar librerias"
   ]
  },
  {
   "cell_type": "code",
   "execution_count": 8,
   "metadata": {},
   "outputs": [],
   "source": [
    "import pandas as pd\n",
    "import mysql.connector as connection\n",
    "from google.cloud import bigquery \n",
    "import os\n",
    "import pyarrow"
   ]
  },
  {
   "cell_type": "markdown",
   "metadata": {},
   "source": [
    "Conexion a MySql"
   ]
  },
  {
   "cell_type": "code",
   "execution_count": 27,
   "metadata": {},
   "outputs": [],
   "source": [
    "#Creacion de funcion para conectar al servidor de mysql\n",
    "def conexion(host, user, password, db):\n",
    "    try: \n",
    "        mydb = connection.connect(\n",
    "            host= host,\n",
    "            user=user,\n",
    "            passwd=password,\n",
    "            database=db\n",
    "        )\n",
    "        return mydb\n",
    "    \n",
    "    #Mensaje en caso no se logre la conexion al servidor   \n",
    "    except connection.Error as e:\n",
    "        print(f\"El error en la conexion es la siguiente: {e}\")\n",
    "        return None\n",
    "\n",
    "\n",
    "#Variables que debe ingresar el usuario para conectarse a BD\n",
    "in_host = input(\"Favor indica el host\")\n",
    "in_user = input(\"Favor indica el user\")\n",
    "in_pass = input(\"Favor indica el tu contrasena\")\n",
    "in_db = input(\"indica la BD\")"
   ]
  },
  {
   "cell_type": "markdown",
   "metadata": {},
   "source": [
    "Funciones para ejecutar querys y creacion de lista con las tablas disponibles en MySql"
   ]
  },
  {
   "cell_type": "code",
   "execution_count": 28,
   "metadata": {},
   "outputs": [
    {
     "name": "stdout",
     "output_type": "stream",
     "text": [
      "Conexion satisfecha\n",
      "Estas son las tablas disponibles en la BD:\n",
      "['categories', 'customers', 'departments', 'order_items', 'orders', 'products']\n"
     ]
    }
   ],
   "source": [
    "\n",
    "#Funcion para obtener el nombre de las tablas\n",
    "def ejecucion_lista(query, conec):\n",
    "    try:\n",
    "        cursor = conec.cursor()\n",
    "        cursor.execute(query)\n",
    "        result = cursor.fetchall()\n",
    "        return [row[0].decode() for row in result]\n",
    "    except connection.Error as e:\n",
    "        print(\"Error al obtener el nombre de las tablas: {e}\")\n",
    "        return None\n",
    "    \n",
    "#Funcion para ejecutar un query \n",
    "def ejecucion_query(query, conec):\n",
    "    try:\n",
    "        df = pd.read_sql(query, conec)\n",
    "        return df\n",
    "    except connection.Error as e:\n",
    "        print(\"Error en ejecutar el query: {e}\")\n",
    "        return None\n",
    "\n",
    "#Definir las variables para la conexion al servidor y el query\n",
    "conexion_bd = conexion(in_host, in_user, in_pass, in_db)\n",
    "querry = 'SHOW TABLES'\n",
    "\n",
    "\n",
    "#Si la conexion al servidor fue exitosa, ejecutar la funcion para obtener los nombres de las tablas de la BD\n",
    "if conexion_bd:\n",
    "    print('Conexion satisfecha')\n",
    "\n",
    "    lista = ejecucion_lista(querry, conexion_bd)\n",
    "    \n",
    "    if lista is not None:\n",
    "        print('Estas son las tablas disponibles en la BD:')\n",
    "        print(lista)"
   ]
  },
  {
   "cell_type": "markdown",
   "metadata": {},
   "source": [
    "Solicitud al usuario de las tablas que se requieren migrar"
   ]
  },
  {
   "cell_type": "code",
   "execution_count": 29,
   "metadata": {},
   "outputs": [
    {
     "name": "stdout",
     "output_type": "stream",
     "text": [
      "['order_items', 'tablaDummy']\n"
     ]
    }
   ],
   "source": [
    "#Pedir al usuario cuale son las tablas que quiere migrar\n",
    "lista_solicitada = input('Escribe una lista de tablas que quieras migrar, separado por comas: ')\n",
    "\n",
    "#crear una lista de las tablas ingresadas por el usuario, separadas por, eliminando los espacios en blanco\n",
    "lista_de_objetos = [objeto.strip() for objeto in lista_solicitada.split(',')]\n",
    "\n",
    "#Mostrar al usuario la lista que creo\n",
    "print(lista_de_objetos)\n"
   ]
  },
  {
   "cell_type": "markdown",
   "metadata": {},
   "source": [
    "Definir datos de credenciales"
   ]
  },
  {
   "cell_type": "code",
   "execution_count": 4,
   "metadata": {},
   "outputs": [],
   "source": [
    "#Definir la conexion a Bigquery\n",
    "os.environ['GOOGLE_APPLICATION_CREDENTIALS'] = 'service.json'\n",
    "client = bigquery.Client()\n",
    "dataset_destino = 'sqlprueba-389904.proyecto_migracion1'\n",
    "\n"
   ]
  },
  {
   "cell_type": "markdown",
   "metadata": {},
   "source": [
    "Validacion de las tablas indicadas por el usuario, comparado con las tablas existentes en la BD"
   ]
  },
  {
   "cell_type": "code",
   "execution_count": 30,
   "metadata": {},
   "outputs": [
    {
     "name": "stdout",
     "output_type": "stream",
     "text": [
      "Error: Las siguientes tablas ingresadas no son válidas:\n",
      "tablaDummy\n"
     ]
    }
   ],
   "source": [
    "#Variable para definir las tablas que no existen en lista_de_objetos (tablas disponibles en mysql)\n",
    "tablas_invalidas = [tabla for tabla in lista_de_objetos if tabla not in lista]\n",
    "\n",
    "#Si existen tablas invalidas, genere el error, imprima las tablas incorrectas y termine el proceso\n",
    "if tablas_invalidas:\n",
    "    print(\"Error: Las siguientes tablas ingresadas no son válidas:\")\n",
    "    for tabla in tablas_invalidas:\n",
    "        print(tabla)\n",
    "    exit(1)"
   ]
  },
  {
   "cell_type": "markdown",
   "metadata": {},
   "source": [
    "Migracion de las tablas de Mysql a BigQuery"
   ]
  },
  {
   "cell_type": "code",
   "execution_count": 7,
   "metadata": {},
   "outputs": [
    {
     "name": "stderr",
     "output_type": "stream",
     "text": [
      "C:\\Users\\luisj\\AppData\\Local\\Temp\\ipykernel_21864\\1212778125.py:40: UserWarning: pandas only supports SQLAlchemy connectable (engine/connection) or database string URI or sqlite3 DBAPI2 connection. Other DBAPI2 objects are not tested. Please consider using SQLAlchemy.\n",
      "  df = pd.read_sql(query, conec)\n"
     ]
    },
    {
     "name": "stdout",
     "output_type": "stream",
     "text": [
      "Tabla 'categories' migrada a BigQuery como 'sqlprueba-389904.proyecto_migracion1.categories'.\n"
     ]
    }
   ],
   "source": [
    "#Proceso para migrar todas las tablas definidas por el usuario\n",
    "for tabla_nombre in lista_de_objetos:\n",
    "    query_mysql = f\"SELECT * FROM {tabla_nombre}\"\n",
    "    \n",
    "    #Ejecuta el query en Mysql y obtiene los datos como DataFrame\n",
    "    df_tabla_mysql = ejecucion_query(query_mysql, conexion_bd)\n",
    "    \n",
    "    #Nombre de la tabla de destino en BigQuery\n",
    "    nombre_tabla_destino = f\"{dataset_destino}.{tabla_nombre}\"\n",
    "    \n",
    "    # Inserta los datos en la tabla de destino en BigQuery\n",
    "    job = client.load_table_from_dataframe(df_tabla_mysql, nombre_tabla_destino)\n",
    "    job.result()  # Espera a que se complete el proceso de carga\n",
    "    \n",
    "    print(f\"Tabla '{tabla_nombre}' migrada a BigQuery como '{nombre_tabla_destino}'.\")"
   ]
  }
 ],
 "metadata": {
  "kernelspec": {
   "display_name": "myenv",
   "language": "python",
   "name": "python3"
  },
  "language_info": {
   "codemirror_mode": {
    "name": "ipython",
    "version": 3
   },
   "file_extension": ".py",
   "mimetype": "text/x-python",
   "name": "python",
   "nbconvert_exporter": "python",
   "pygments_lexer": "ipython3",
   "version": "3.11.4"
  },
  "orig_nbformat": 4
 },
 "nbformat": 4,
 "nbformat_minor": 2
}
